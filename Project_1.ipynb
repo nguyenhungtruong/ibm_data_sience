{
 "cells": [
  {
   "cell_type": "markdown",
   "id": "c9b84bc8",
   "metadata": {},
   "source": [
    "# My Jupyter Notebook on IBM Watson Studio"
   ]
  },
  {
   "cell_type": "markdown",
   "id": "7760ebf9",
   "metadata": {},
   "source": [
    "## My name is Nguyen Hung Truong\n",
    "###### My current job is quantitative finance"
   ]
  },
  {
   "cell_type": "markdown",
   "id": "b10e9e76",
   "metadata": {},
   "source": [
    "*I am interested in the course because I want to become a data researcher*"
   ]
  },
  {
   "cell_type": "markdown",
   "id": "d9324b2e",
   "metadata": {},
   "source": [
    "### Do the calculation 1+1"
   ]
  },
  {
   "cell_type": "code",
   "execution_count": 3,
   "id": "53b58f49",
   "metadata": {},
   "outputs": [
    {
     "data": {
      "text/plain": [
       "2"
      ]
     },
     "execution_count": 3,
     "metadata": {},
     "output_type": "execute_result"
    }
   ],
   "source": [
    "1+1"
   ]
  },
  {
   "cell_type": "markdown",
   "id": "4f7ad446",
   "metadata": {},
   "source": [
    "~~Data~~\n",
    "\n",
    "1. one\n",
    "2. two\n",
    "3. three\n",
    "\n",
    "<blockquote>This is good</blockquote>\n",
    "\n",
    "\n"
   ]
  },
  {
   "cell_type": "code",
   "execution_count": null,
   "id": "7b6b1b23",
   "metadata": {},
   "outputs": [],
   "source": []
  }
 ],
 "metadata": {
  "kernelspec": {
   "display_name": "Python 3 (ipykernel)",
   "language": "python",
   "name": "python3"
  },
  "language_info": {
   "codemirror_mode": {
    "name": "ipython",
    "version": 3
   },
   "file_extension": ".py",
   "mimetype": "text/x-python",
   "name": "python",
   "nbconvert_exporter": "python",
   "pygments_lexer": "ipython3",
   "version": "3.9.13"
  }
 },
 "nbformat": 4,
 "nbformat_minor": 5
}
